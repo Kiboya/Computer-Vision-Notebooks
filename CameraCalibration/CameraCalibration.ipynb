{
 "cells": [
  {
   "cell_type": "markdown",
   "metadata": {},
   "source": [
    "# OpenCV Calibration"
   ]
  },
  {
   "cell_type": "code",
   "execution_count": 2,
   "metadata": {},
   "outputs": [],
   "source": [
    "try:\n",
    "    import cv2 as cv\n",
    "except ImportError:\n",
    "    %pip install opencv-python\n",
    "    import cv as cv"
   ]
  },
  {
   "cell_type": "markdown",
   "metadata": {},
   "source": [
    "## Video and Image File Processing"
   ]
  },
  {
   "cell_type": "markdown",
   "metadata": {},
   "source": [
    "### Video File Processing"
   ]
  },
  {
   "cell_type": "markdown",
   "metadata": {},
   "source": [
    "In this section, we go through the process of creating an application that will:\n",
    "- Display images from a camera or various files\n",
    "- Convert a color image to a grayscale image\n",
    "- Allow the user to toggle between the original and grayscale images"
   ]
  },
  {
   "cell_type": "code",
   "execution_count": 5,
   "metadata": {},
   "outputs": [],
   "source": [
    "import os\n",
    "ESC_KEY = 27\n",
    "SPACE_KEY = 32\n",
    "\n",
    "def video_display(video_path=None):\n",
    "    \"\"\"\n",
    "    Displays video from a given path or webcam.\n",
    "    This function captures video from a specified file path or the default webcam if no path is provided.\n",
    "    It displays the video in a window, allowing the user to toggle between color and grayscale views by pressing the SPACE key.\n",
    "    Pressing the ESC key will exit the video display.\n",
    "    Parameters:\n",
    "        video_path (str, optional): The file path to the video to be displayed. Defaults to None, which uses the webcam.\n",
    "    Returns:\n",
    "        None\n",
    "    Raises:\n",
    "        IOError: If the provided video_path does not exist or cannot be opened.\n",
    "        Exception: If an unexpected error occurs during video processing.\n",
    "    \"\"\"\n",
    "\n",
    "    if video_path is None:\n",
    "        video_path = 0  # Use webcam\n",
    "    elif not os.path.isfile(video_path):\n",
    "        print(f\"Error: The file '{video_path}' does not exist.\")\n",
    "        return\n",
    "\n",
    "    cap = cv.VideoCapture(video_path)\n",
    "\n",
    "    if not cap.isOpened():\n",
    "        print(\"Error: Could not open video source.\")\n",
    "        return \n",
    "\n",
    "    grayscale = False\n",
    "\n",
    "    try:\n",
    "        while True:\n",
    "            ret, frame = cap.read()\n",
    "            if not ret:\n",
    "                print(\"Failed to grab frame.\")\n",
    "                break\n",
    "\n",
    "            # Convert the frame to grayscale if the user has toggled the display\n",
    "            if grayscale:\n",
    "                display_frame = cv.cvtColor(frame, cv.COLOR_BGR2GRAY)\n",
    "            else:\n",
    "                display_frame = frame\n",
    "\n",
    "            cv.imshow('Video', display_frame)\n",
    "\n",
    "            # Check for the user pressing the ESC or SPACE key\n",
    "            key = cv.waitKey(1) & 0xFF # 0xFF is used to get the lowest byte of the return value\n",
    "            if key == ESC_KEY:  \n",
    "                break\n",
    "            elif key == SPACE_KEY:  \n",
    "                grayscale = not grayscale\n",
    "    except Exception as e:\n",
    "        print(f\"An error occurred: {e}\")\n",
    "    finally:\n",
    "        cap.release()\n",
    "        cv.destroyAllWindows()\n",
    "\n",
    "video_display()"
   ]
  },
  {
   "cell_type": "markdown",
   "metadata": {},
   "source": [
    "### Image File Processing"
   ]
  },
  {
   "cell_type": "markdown",
   "metadata": {},
   "source": [
    "Now, we are going to try to display images instead of videos. We will use the same code as before, but we will change the video capture to image capture.\n",
    "\n",
    "These images are stored in the `calib_gopro` folder. "
   ]
  },
  {
   "cell_type": "code",
   "execution_count": 12,
   "metadata": {},
   "outputs": [],
   "source": [
    "def image_display():\n",
    "    \"\"\"\n",
    "    Displays images from the 'calib_gopro' folder.\n",
    "    Allows toggling between color and grayscale images.\n",
    "    \"\"\"\n",
    "    import glob\n",
    "\n",
    "    ESC_KEY = 27\n",
    "    SPACE_KEY = 32\n",
    "    NEXT_KEY = ord('n')\n",
    "    PREV_KEY = ord('p')\n",
    "\n",
    "    # Load images from the 'calib_gopro' folder\n",
    "    image_folder = 'calib_gopro'\n",
    "    image_pattern = os.path.join(image_folder, 'GOPR84*.JPG')\n",
    "    image_files = sorted(glob.glob(image_pattern))\n",
    "\n",
    "    if not image_files:\n",
    "        print(\"No images found in the folder.\")\n",
    "        return\n",
    "\n",
    "    index = 0\n",
    "    grayscale = False\n",
    "\n",
    "    while True:\n",
    "        image_path = image_files[index]\n",
    "        frame = cv.imread(image_path)\n",
    "\n",
    "        if frame is None:\n",
    "            print(f\"Failed to load image: {image_path}\")\n",
    "            break\n",
    "\n",
    "        while True:\n",
    "            if grayscale:\n",
    "                display_frame = cv.cvtColor(frame, cv.COLOR_BGR2GRAY)\n",
    "            else:\n",
    "                display_frame = frame\n",
    "\n",
    "            cv.imshow('Image Viewer', display_frame)\n",
    "\n",
    "            # Wait for user input to switch images or modes\n",
    "            key = cv.waitKey(0) & 0xFF\n",
    "\n",
    "            if key == ESC_KEY:\n",
    "                cv.destroyAllWindows()\n",
    "                return\n",
    "            elif key == SPACE_KEY:\n",
    "                grayscale = not grayscale\n",
    "            elif key == NEXT_KEY:\n",
    "                index = (index + 1) % len(image_files)\n",
    "                break\n",
    "            elif key == PREV_KEY:\n",
    "                index = (index - 1) % len(image_files)\n",
    "                break\n",
    "\n",
    "    cv.destroyAllWindows()\n",
    "\n",
    "image_display()"
   ]
  },
  {
   "cell_type": "markdown",
   "metadata": {},
   "source": [
    "## Camera Calibration with OpenCV"
   ]
  },
  {
   "cell_type": "markdown",
   "metadata": {},
   "source": [
    "Now the goal is to calibrate the camera using a chessboard pattern. Once enough images are captured, we'll be able to calculate the camera matrix and distortion coefficients. Finally, we'll try to straighten the input camera image"
   ]
  },
  {
   "cell_type": "markdown",
   "metadata": {},
   "source": [
    "![image0.png](./attachments/image0.png)"
   ]
  },
  {
   "cell_type": "markdown",
   "metadata": {},
   "source": [
    "### Chess board detection and camera calibration"
   ]
  },
  {
   "cell_type": "markdown",
   "metadata": {},
   "source": [
    "Camera calibration involves identifying a set of distinctive points on a specific target, such as the inner corners of a chessboard, and determining the intrinsic parameters along with the position and orientation of these points.\n",
    "\n",
    "We will use the `cv2.findChessboardCorners()` function to find the corners of the chessboard. This function returns the corners of the chessboard and a boolean value that indicates whether the corners were found or not.\n",
    "\n",
    "Next, we will use the `cv2.drawChessboardCorners()` function to draw the corners on the image.\n",
    "\n",
    "Finally, the retuned corners will be used to calibrate the camera using the `cv2.calibrateCamera()` function."
   ]
  },
  {
   "cell_type": "markdown",
   "metadata": {},
   "source": [
    "In order to calibrate the camera, we need to show to the camera a chessboard pattern from different angles. The more angles we show, the better the calibration will be (the number of corners can be changed according to the chessboard pattern)."
   ]
  },
  {
   "cell_type": "code",
   "execution_count": 36,
   "metadata": {},
   "outputs": [],
   "source": [
    "def camera_calibration(num_corners_hor, num_corners_ver, num_frames=20):\n",
    "    \"\"\"\n",
    "    Perform camera calibration using a chessboard pattern from a webcam stream.\n",
    "\n",
    "    Args:\n",
    "        num_corners_hor (int): Number of inner corners along the chessboard's width.\n",
    "        num_corners_ver (int): Number of inner corners along the chessboard's height.\n",
    "        num_frames (int): Number of valid frames to collect for calibration.\n",
    "\n",
    "    Returns:\n",
    "        ret (float): Overall RMS re-projection error.\n",
    "        camera_matrix (numpy.ndarray): Camera matrix (intrinsic parameters).\n",
    "        dist_coeffs (numpy.ndarray): Distortion coefficients.\n",
    "        rvecs (list): Rotation vectors.\n",
    "        tvecs (list): Translation vectors.\n",
    "        captured_frames (list): List of captured frames used for calibration.\n",
    "    \"\"\"\n",
    "    import numpy as np\n",
    "\n",
    "    # Generate the object points for a single chessboard pattern\n",
    "    objp = np.zeros((num_corners_ver * num_corners_hor, 3), np.float32)\n",
    "    objp[:, :2] = np.mgrid[0:num_corners_hor, 0:num_corners_ver].T.reshape(-1, 2)\n",
    "\n",
    "    # Arrays to store object points and image points from all the images\n",
    "    object_points = []  # 3D points in real world space\n",
    "    image_points = []   # 2D points in image plane\n",
    "    captured_frames = []  # List to store captured frames\n",
    "\n",
    "    # Open webcam stream\n",
    "    cap = cv.VideoCapture(0)\n",
    "\n",
    "    if not cap.isOpened():\n",
    "        print(\"Error: Could not open webcam.\")\n",
    "        return None, None, None, None, None, None\n",
    "\n",
    "    # Define the size of the chessboard (number of inner corners)\n",
    "    board_size = (num_corners_hor, num_corners_ver)\n",
    "\n",
    "    print(f\"Press SPACE to capture frame {num_frames} valid frames. Press 'q' or SPACE KEY to quit early.\")\n",
    "\n",
    "    collected_frames = 0\n",
    "\n",
    "    while collected_frames < num_frames:\n",
    "        # Read a frame from the webcam\n",
    "        ret, frame = cap.read()\n",
    "        if not ret:\n",
    "            print(\"Error: Could not read frame from webcam.\")\n",
    "            break\n",
    "\n",
    "        # Convert to grayscale\n",
    "        gray_frame = cv.cvtColor(frame, cv.COLOR_BGR2GRAY)\n",
    "\n",
    "        # Detect chessboard corners\n",
    "        found, corners = cv.findChessboardCorners(\n",
    "            gray_frame,\n",
    "            board_size,\n",
    "        )\n",
    "\n",
    "        if found:\n",
    "            # Refine corner detection\n",
    "            criteria = (cv.TERM_CRITERIA_EPS | cv.TERM_CRITERIA_MAX_ITER, 30, 0.001)\n",
    "            corners2 = cv.cornerSubPix(gray_frame, corners, (11, 11), (-1, -1), criteria)\n",
    "\n",
    "            # Draw the detected corners\n",
    "            cv.drawChessboardCorners(frame, board_size, corners2, found)\n",
    "\n",
    "        # Display the frame\n",
    "        cv.imshow('Webcam Chessboard Calibration', frame)\n",
    "\n",
    "        key = cv.waitKey(1) & 0xFF\n",
    "\n",
    "        if key == SPACE_KEY:  # Space key to capture\n",
    "            if found:\n",
    "                # Store the object points and image points\n",
    "                object_points.append(objp)\n",
    "                image_points.append(corners2)\n",
    "\n",
    "                # Store the captured frame\n",
    "                captured_frames.append(frame.copy())\n",
    "\n",
    "                collected_frames += 1\n",
    "                print(f\"Captured frame {collected_frames}/{num_frames}\")\n",
    "            else:\n",
    "                print(\"Chessboard not detected. Adjust the board and try again.\")\n",
    "\n",
    "        elif key == ESC_KEY or key == ord('q'):\n",
    "            print(\"Calibration interrupted by user.\")\n",
    "            break\n",
    "\n",
    "    # Release the webcam and close all OpenCV windows\n",
    "    cap.release()\n",
    "    cv.destroyAllWindows()\n",
    "\n",
    "    if collected_frames >= 1:\n",
    "        image_size = gray_frame.shape[::-1]\n",
    "\n",
    "        # Perform camera calibration\n",
    "        ret, camera_matrix, dist_coeffs, rvecs, tvecs = cv.calibrateCamera(\n",
    "            object_points, image_points, image_size, None, None\n",
    "        )\n",
    "\n",
    "        return ret, camera_matrix, dist_coeffs, rvecs, tvecs, captured_frames\n",
    "    else:\n",
    "        print(\"Not enough frames collected for calibration.\")\n",
    "        return None, None, None, None, None, None"
   ]
  },
  {
   "cell_type": "code",
   "execution_count": 37,
   "metadata": {},
   "outputs": [
    {
     "name": "stdout",
     "output_type": "stream",
     "text": [
      "Press SPACE to capture frame 20 valid frames. Press 'q' or SPACE KEY to quit early.\n",
      "Captured frame 1/20\n",
      "Captured frame 2/20\n",
      "Captured frame 3/20\n",
      "Captured frame 4/20\n",
      "Captured frame 5/20\n",
      "Captured frame 6/20\n",
      "Captured frame 7/20\n",
      "Captured frame 8/20\n",
      "Captured frame 9/20\n",
      "Captured frame 10/20\n",
      "Captured frame 11/20\n",
      "Captured frame 12/20\n",
      "Captured frame 13/20\n",
      "Captured frame 14/20\n",
      "Captured frame 15/20\n",
      "Captured frame 16/20\n",
      "Captured frame 17/20\n",
      "Captured frame 18/20\n",
      "Chessboard not detected. Adjust the board and try again.\n",
      "Chessboard not detected. Adjust the board and try again.\n",
      "Captured frame 19/20\n",
      "Captured frame 20/20\n"
     ]
    }
   ],
   "source": [
    "# Perform camera calibration\n",
    "num_corners_hor = 9\n",
    "num_corners_ver = 6\n",
    "num_frames = 20\n",
    "ret, camera_matrix, dist_coeffs, rvecs, tvecs, captured_frames = camera_calibration(num_corners_hor, num_corners_ver, num_frames)"
   ]
  },
  {
   "cell_type": "markdown",
   "metadata": {},
   "source": [
    "### Undistorting the input image"
   ]
  },
  {
   "cell_type": "markdown",
   "metadata": {},
   "source": [
    "Now that we have the camera matrix and distortion coefficients, we can use the `cv2.undistort()` function to undistort the input image."
   ]
  },
  {
   "cell_type": "code",
   "execution_count": 40,
   "metadata": {},
   "outputs": [],
   "source": [
    "def undistort_captured_images(captured_frames):\n",
    "    \"\"\"\n",
    "    Undistorts the captured images using the precomputed camera matrix and distortion coefficients.\n",
    "\n",
    "    Args:\n",
    "        captured_frames (list): List of captured frames to be undistorted.\n",
    "\n",
    "    Returns:\n",
    "        undistorted_images (list): List of undistorted images.\n",
    "    \"\"\"\n",
    "    undistorted_images = []\n",
    "\n",
    "    print(\"Press SPACE to go to the next image. Press ESC to exit.\")\n",
    "    for i, frame in enumerate(captured_frames):\n",
    "        # Undistort the image\n",
    "        undistorted_image = cv.undistort(frame, camera_matrix, dist_coeffs)\n",
    "        undistorted_images.append(undistorted_image)\n",
    "\n",
    "        while True:\n",
    "            # Display the original and undistorted images\n",
    "            cv.imshow(f'Original Image {i+1}', frame)\n",
    "            cv.imshow(f'Undistorted Image {i+1}', undistorted_image)\n",
    "            key = cv.waitKey(0) & 0xFF\n",
    "\n",
    "            if key == ESC_KEY:\n",
    "                cv.destroyAllWindows()\n",
    "                return undistorted_images\n",
    "            elif key == SPACE_KEY:\n",
    "                cv.destroyAllWindows()\n",
    "                break\n",
    "\n",
    "    return undistorted_images\n",
    "\n",
    "# Undistort the captured images\n",
    "undistorted_images = undistort_captured_images(captured_frames)\n"
   ]
  },
  {
   "cell_type": "markdown",
   "metadata": {},
   "source": [
    "When showing the undistorted image, we can see black areas around the image. This is because the image has been undistorted and the corners of the image have been moved. "
   ]
  },
  {
   "cell_type": "markdown",
   "metadata": {},
   "source": [
    "## Calibrate from a group of images"
   ]
  },
  {
   "cell_type": "markdown",
   "metadata": {},
   "source": [
    "Now, instead of using a video stream, we will use a group of images to calibrate the camera.\n",
    "The images are stored in the `calib_gopro` folder."
   ]
  },
  {
   "cell_type": "code",
   "execution_count": 52,
   "metadata": {},
   "outputs": [],
   "source": [
    "def calibrate_camera_from_folder(num_corners_hor, num_corners_ver):\n",
    "    \"\"\"\n",
    "    Calibrates the camera using images of a chessboard pattern stored in a specified folder.\n",
    "\n",
    "    Args:\n",
    "        num_corners_hor (int): Number of inner corners along the chessboard's width.\n",
    "        num_corners_ver (int): Number of inner corners along the chessboard's height.\n",
    "\n",
    "    Returns:\n",
    "        ret (float): Overall RMS re-projection error.\n",
    "        camera_matrix (numpy.ndarray): Camera matrix (intrinsic parameters).\n",
    "        dist_coeffs (numpy.ndarray): Distortion coefficients.\n",
    "        rvecs (list): Rotation vectors.\n",
    "        tvecs (list): Translation vectors.\n",
    "        images_used (list): List of image file paths used for calibration.\n",
    "    \"\"\"\n",
    "    import glob\n",
    "    import numpy as np\n",
    "\n",
    "    # Termination criteria for cornerSubPix\n",
    "    criteria = (cv.TERM_CRITERIA_EPS + cv.TERM_CRITERIA_MAX_ITER, 30, 0.001)\n",
    "\n",
    "    # Prepare object points based on the real chessboard dimensions\n",
    "    objp = np.zeros((num_corners_ver * num_corners_hor, 3), np.float32)\n",
    "    objp[:, :2] = np.mgrid[0:num_corners_hor, 0:num_corners_ver].T.reshape(-1, 2)\n",
    "\n",
    "    # Arrays to store object points and image points from all the images\n",
    "    object_points = []  # 3D points in real world space\n",
    "    image_points = []   # 2D points in image plane\n",
    "    images_used = []     # List to store paths of images used\n",
    "\n",
    "    # Load images from the 'calib_gopro' folder\n",
    "    image_folder = 'calib_gopro'\n",
    "    image_pattern = os.path.join(image_folder, 'GOPR84*.JPG')\n",
    "    image_files = sorted(glob.glob(image_pattern))\n",
    "\n",
    "    if not image_files:\n",
    "        print(\"No images found in the specified folder.\")\n",
    "        return None, None, None, None, None, None\n",
    "\n",
    "    for fname in image_files:\n",
    "        img = cv.imread(fname)\n",
    "        if img is None:\n",
    "            print(f\"Failed to load image: {fname}\")\n",
    "            continue\n",
    "\n",
    "        gray = cv.cvtColor(img, cv.COLOR_BGR2GRAY)\n",
    "\n",
    "        # Find chessboard corners\n",
    "        found, corners = cv.findChessboardCorners(gray, (num_corners_hor, num_corners_ver), None)\n",
    "\n",
    "        if found:\n",
    "            # Refine corner locations\n",
    "            corners2 = cv.cornerSubPix(gray, corners, (11, 11), (-1, -1), criteria)\n",
    "\n",
    "            # Append object points and image points\n",
    "            object_points.append(objp)\n",
    "            image_points.append(corners2)\n",
    "            images_used.append(fname)\n",
    "\n",
    "            # Draw and display the corners\n",
    "            cv.drawChessboardCorners(img, (num_corners_hor, num_corners_ver), corners2, found)\n",
    "            cv.imshow('Chessboard Detection', img)\n",
    "            cv.waitKey(100)  # Display each valid image for 100 ms\n",
    "        else:\n",
    "            print(f\"Chessboard not detected in image: {fname}\")\n",
    "\n",
    "    cv.destroyAllWindows()\n",
    "\n",
    "    if not object_points or not image_points:\n",
    "        print(\"No valid images found for calibration.\")\n",
    "        return None, None, None, None, None, None\n",
    "\n",
    "    # Get image size from the first valid image\n",
    "    image_size = gray.shape[::-1]\n",
    "\n",
    "    # Perform camera calibration\n",
    "    print(f\"Calibrating using {len(object_points)} images...\")\n",
    "    ret, camera_matrix, dist_coeffs, rvecs, tvecs = cv.calibrateCamera(\n",
    "        object_points, image_points, image_size, None, None\n",
    "    )\n",
    "\n",
    "    # Convert the images to numpy arrays\n",
    "    frames = []\n",
    "    for image in images_used:\n",
    "        img = cv.imread(image)\n",
    "        if img is not None:\n",
    "            frames.append(img)\n",
    "        else:\n",
    "            print(f\"Failed to load image: {image}\")\n",
    "\n",
    "    return ret, camera_matrix, dist_coeffs, rvecs, tvecs, frames"
   ]
  },
  {
   "cell_type": "code",
   "execution_count": 53,
   "metadata": {},
   "outputs": [
    {
     "name": "stdout",
     "output_type": "stream",
     "text": [
      "Chessboard not detected in image: calib_gopro\\GOPR8411.JPG\n",
      "Calibrating using 26 images...\n"
     ]
    }
   ],
   "source": [
    "# Calibrate camera using images from the 'calib_gopro' folder\n",
    "num_corners_hor = 9\n",
    "num_corners_ver = 6\n",
    "ret, camera_matrix, dist_coeffs, rvecs, tvecs, images_used = calibrate_camera_from_folder(num_corners_hor, num_corners_ver)"
   ]
  },
  {
   "cell_type": "markdown",
   "metadata": {},
   "source": [
    "Now that the images from the folder have been used to calibrate the camera, we can read the images from the folder and undistort them using the camera matrix and distortion coefficients."
   ]
  },
  {
   "cell_type": "code",
   "execution_count": 54,
   "metadata": {},
   "outputs": [],
   "source": [
    "undistorted_images = undistort_captured_images(images_used)"
   ]
  },
  {
   "cell_type": "markdown",
   "metadata": {},
   "source": [
    "We can see that the images have been undistorted since the chessboard pattern is now straight."
   ]
  }
 ],
 "metadata": {
  "kernelspec": {
   "display_name": "base",
   "language": "python",
   "name": "python3"
  },
  "language_info": {
   "codemirror_mode": {
    "name": "ipython",
    "version": 3
   },
   "file_extension": ".py",
   "mimetype": "text/x-python",
   "name": "python",
   "nbconvert_exporter": "python",
   "pygments_lexer": "ipython3",
   "version": "3.12.4"
  }
 },
 "nbformat": 4,
 "nbformat_minor": 2
}
